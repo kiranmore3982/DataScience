{
 "cells": [
  {
   "cell_type": "code",
   "execution_count": 3,
   "metadata": {},
   "outputs": [
    {
     "name": "stdout",
     "output_type": "stream",
     "text": [
      "    Index  speed  dist\n",
      "0       1      4     2\n",
      "1       2      4    10\n",
      "2       3      7     4\n",
      "3       4      7    22\n",
      "4       5      8    16\n",
      "5       6      9    10\n",
      "6       7     10    18\n",
      "7       8     10    26\n",
      "8       9     10    34\n",
      "9      10     11    17\n",
      "10     11     11    28\n",
      "11     12     12    14\n",
      "12     13     12    20\n",
      "13     14     12    24\n",
      "14     15     12    28\n",
      "15     16     13    26\n",
      "16     17     13    34\n",
      "17     18     13    34\n",
      "18     19     13    46\n",
      "19     20     14    26\n",
      "20     21     14    36\n",
      "21     22     14    60\n",
      "22     23     14    80\n",
      "23     24     15    20\n",
      "24     25     15    26\n",
      "25     26     15    54\n",
      "26     27     16    32\n",
      "27     28     16    40\n",
      "28     29     17    32\n",
      "29     30     17    40\n",
      "30     31     17    50\n",
      "31     32     18    42\n",
      "32     33     18    56\n",
      "33     34     18    76\n",
      "34     35     18    84\n",
      "35     36     19    36\n",
      "36     37     19    46\n",
      "37     38     19    68\n",
      "38     39     20    32\n",
      "39     40     20    48\n",
      "40     41     20    52\n",
      "41     42     20    56\n",
      "42     43     20    64\n",
      "43     44     22    66\n",
      "44     45     23    54\n",
      "45     46     24    70\n",
      "46     47     24    92\n",
      "47     48     24    93\n",
      "48     49     24   120\n",
      "49     50     25    85\n"
     ]
    }
   ],
   "source": [
    "import pandas as pd\n",
    "data = pd.read_csv(\"E:/kiran_workspace/Excelr/assignements/Q9_a.csv\")\n",
    "print(data)"
   ]
  },
  {
   "cell_type": "markdown",
   "metadata": {},
   "source": [
    "# Skewness"
   ]
  },
  {
   "cell_type": "code",
   "execution_count": 20,
   "metadata": {},
   "outputs": [
    {
     "data": {
      "text/plain": [
       "Index    0.000000\n",
       "speed   -0.117510\n",
       "dist     0.806895\n",
       "dtype: float64"
      ]
     },
     "execution_count": 20,
     "metadata": {},
     "output_type": "execute_result"
    }
   ],
   "source": [
    "data.skew(axis = 0, skipna = True) \n",
    "#data.skew(axis = 0, skipna = False)"
   ]
  },
  {
   "cell_type": "markdown",
   "metadata": {},
   "source": [
    "# Kurtosis"
   ]
  },
  {
   "cell_type": "code",
   "execution_count": 21,
   "metadata": {},
   "outputs": [
    {
     "data": {
      "text/plain": [
       "Index   -1.200000\n",
       "speed   -0.508994\n",
       "dist     0.405053\n",
       "dtype: float64"
      ]
     },
     "execution_count": 21,
     "metadata": {},
     "output_type": "execute_result"
    }
   ],
   "source": [
    "data.kurt()"
   ]
  },
  {
   "cell_type": "code",
   "execution_count": 22,
   "metadata": {},
   "outputs": [],
   "source": [
    "import matplotlib.pyplot as plt"
   ]
  },
  {
   "cell_type": "code",
   "execution_count": 1,
   "metadata": {},
   "outputs": [],
   "source": [
    "import seaborn as sns"
   ]
  },
  {
   "cell_type": "code",
   "execution_count": 5,
   "metadata": {},
   "outputs": [
    {
     "data": {
      "text/plain": [
       "<seaborn.axisgrid.FacetGrid at 0x1e74c9a0e20>"
      ]
     },
     "execution_count": 5,
     "metadata": {},
     "output_type": "execute_result"
    },
    {
     "data": {
      "image/png": "[encoded data removed]",
      "text/plain": [
       "<Figure size 360x360 with 1 Axes>"
      ]
     },
     "metadata": {
      "needs_background": "light"
     },
     "output_type": "display_data"
    }
   ],
   "source": [
    "sns.displot(data['speed'])"
   ]
  },
  {
   "cell_type": "code",
   "execution_count": 6,
   "metadata": {},
   "outputs": [
    {
     "data": {
      "text/plain": [
       "<seaborn.axisgrid.FacetGrid at 0x1e74ce86490>"
      ]
     },
     "execution_count": 6,
     "metadata": {},
     "output_type": "execute_result"
    },
    {
     "data": {
      "image/png": "[encoded data removed]",
      "text/plain": [
       "<Figure size 360x360 with 1 Axes>"
      ]
     },
     "metadata": {
      "needs_background": "light"
     },
     "output_type": "display_data"
    }
   ],
   "source": [
    "sns.displot(data['dist'])"
   ]
  },
  {
   "cell_type": "markdown",
   "metadata": {},
   "source": [
    "# Inference is - speed data is negatively skewed and dist data is positively skewed\n"
   ]
  },
  {
   "cell_type": "code",
   "execution_count": null,
   "metadata": {},
   "outputs": [],
   "source": []
  }
 ],
 "metadata": {
  "kernelspec": {
   "display_name": "Python 3",
   "language": "python",
   "name": "python3"
  },
  "language_info": {
   "codemirror_mode": {
    "name": "ipython",
    "version": 3
   },
   "file_extension": ".py",
   "mimetype": "text/x-python",
   "name": "python",
   "nbconvert_exporter": "python",
   "pygments_lexer": "ipython3",
   "version": "3.8.5"
  }
 },
 "nbformat": 4,
 "nbformat_minor": 4
}
